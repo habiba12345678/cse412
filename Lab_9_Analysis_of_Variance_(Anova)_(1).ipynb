{
  "nbformat": 4,
  "nbformat_minor": 0,
  "metadata": {
    "colab": {
      "provenance": [],
      "collapsed_sections": [
        "EVRQF0HkZhxd",
        "6r7fJg2TiQlk"
      ],
      "include_colab_link": true
    },
    "kernelspec": {
      "name": "python3",
      "display_name": "Python 3"
    },
    "language_info": {
      "name": "python"
    }
  },
  "cells": [
    {
      "cell_type": "markdown",
      "metadata": {
        "id": "view-in-github",
        "colab_type": "text"
      },
      "source": [
        "<a href=\"https://colab.research.google.com/github/habiba12345678/cse412/blob/main/Lab_9_Analysis_of_Variance_(Anova)_(1).ipynb\" target=\"_parent\"><img src=\"https://colab.research.google.com/assets/colab-badge.svg\" alt=\"Open In Colab\"/></a>"
      ]
    },
    {
      "cell_type": "markdown",
      "source": [
        "# **`Analysis of Variance (Anova)`**"
      ],
      "metadata": {
        "id": "Wb9LyXR91KSv"
      }
    },
    {
      "cell_type": "markdown",
      "source": [
        "**Table of Content:**\n",
        "\n",
        "- [Import Libraries](#Import_Libraries)\n",
        "- [7.1. One-Way Analysis of Variance](#One-Way_Analysis_of_Variance)\n",
        "  - [7.1.1. Equal Sample Sizes](#Equal_Sample_Sizes)\n",
        "  - [7.1.2. Unequal Sample Sizes](#Unequal_Sample_Sizes)\n",
        "- [7.2. Two-Way Analysis of Variance](#Two-Way_Analysis_of_Variance)  "
      ],
      "metadata": {
        "id": "w5zb7kZV85_J"
      }
    },
    {
      "cell_type": "markdown",
      "source": [
        "<a name='Import_Libraries'></a>\n",
        "\n",
        "## **Import Libraries**"
      ],
      "metadata": {
        "id": "1mrsPw8OSpPG"
      }
    },
    {
      "cell_type": "code",
      "source": [
        "!pip install --upgrade scipy"
      ],
      "metadata": {
        "colab": {
          "base_uri": "https://localhost:8080/"
        },
        "id": "1GroeqIoC6fr",
        "outputId": "86601ef8-c921-47fa-95e8-f9410d43456d"
      },
      "execution_count": null,
      "outputs": [
        {
          "output_type": "stream",
          "name": "stdout",
          "text": [
            "Requirement already satisfied: scipy in /usr/local/lib/python3.10/dist-packages (1.11.3)\n",
            "Collecting scipy\n",
            "  Downloading scipy-1.11.4-cp310-cp310-manylinux_2_17_x86_64.manylinux2014_x86_64.whl (36.4 MB)\n",
            "\u001b[2K     \u001b[90m━━━━━━━━━━━━━━━━━━━━━━━━━━━━━━━━━━━━━━━━\u001b[0m \u001b[32m36.4/36.4 MB\u001b[0m \u001b[31m39.1 MB/s\u001b[0m eta \u001b[36m0:00:00\u001b[0m\n",
            "\u001b[?25hRequirement already satisfied: numpy<1.28.0,>=1.21.6 in /usr/local/lib/python3.10/dist-packages (from scipy) (1.23.5)\n",
            "Installing collected packages: scipy\n",
            "  Attempting uninstall: scipy\n",
            "    Found existing installation: scipy 1.11.3\n",
            "    Uninstalling scipy-1.11.3:\n",
            "      Successfully uninstalled scipy-1.11.3\n",
            "\u001b[31mERROR: pip's dependency resolver does not currently take into account all the packages that are installed. This behaviour is the source of the following dependency conflicts.\n",
            "lida 0.0.10 requires fastapi, which is not installed.\n",
            "lida 0.0.10 requires kaleido, which is not installed.\n",
            "lida 0.0.10 requires python-multipart, which is not installed.\n",
            "lida 0.0.10 requires uvicorn, which is not installed.\u001b[0m\u001b[31m\n",
            "\u001b[0mSuccessfully installed scipy-1.11.4\n"
          ]
        }
      ]
    },
    {
      "cell_type": "code",
      "source": [
        "import pandas as pd\n",
        "import numpy as np\n",
        "import matplotlib.pyplot as plt\n",
        "import matplotlib.patches as mpatches\n",
        "from matplotlib import collections  as mc\n",
        "import seaborn as sns\n",
        "import math\n",
        "from scipy import stats\n",
        "from scipy.stats import norm\n",
        "from scipy.stats import chi2\n",
        "from scipy.stats import t\n",
        "from scipy.stats import f\n",
        "from scipy.stats import bernoulli\n",
        "from scipy.stats import binom\n",
        "from scipy.stats import nbinom\n",
        "from scipy.stats import geom\n",
        "from scipy.stats import poisson\n",
        "from scipy.stats import uniform\n",
        "from scipy.stats import randint\n",
        "from scipy.stats import expon\n",
        "from scipy.stats import gamma\n",
        "from scipy.stats import beta\n",
        "from scipy.stats import weibull_min\n",
        "from scipy.stats import hypergeom\n",
        "from scipy.stats import shapiro\n",
        "from scipy.stats import pearsonr\n",
        "from scipy.stats import normaltest\n",
        "from scipy.stats import anderson\n",
        "from scipy.stats import spearmanr\n",
        "from scipy.stats import kendalltau\n",
        "from scipy.stats import chi2_contingency\n",
        "from scipy.stats import ttest_ind\n",
        "from scipy.stats import ttest_rel\n",
        "from scipy.stats import mannwhitneyu\n",
        "from scipy.stats import wilcoxon\n",
        "from scipy.stats import kruskal\n",
        "from scipy.stats import friedmanchisquare\n",
        "from statsmodels.tsa.stattools import adfuller\n",
        "from statsmodels.tsa.stattools import kpss\n",
        "from statsmodels.stats.weightstats import ztest\n",
        "import statsmodels.api as sm\n",
        "from sklearn.linear_model import LinearRegression\n",
        "from scipy.stats import f_oneway\n",
        "from statsmodels.formula.api import ols\n",
        "from statsmodels.stats.anova import anova_lm\n",
        "from scipy.integrate import quad\n",
        "from statsmodels.stats.outliers_influence import summary_table\n",
        "from statsmodels.sandbox.regression.predstd import wls_prediction_std\n",
        "from statsmodels.stats.outliers_influence import variance_inflation_factor\n",
        "from IPython.display import display, Latex\n",
        "\n",
        "import warnings\n",
        "warnings.filterwarnings('ignore')\n",
        "warnings.simplefilter(action='ignore', category=FutureWarning)"
      ],
      "metadata": {
        "id": "o60rxBbwmJM5"
      },
      "execution_count": null,
      "outputs": []
    },
    {
      "cell_type": "markdown",
      "source": [
        "<a name='One-Way_Analysis_of_Variance'></a>\n",
        "\n",
        "## **7.1. One-Way Analysis of Variance:**"
      ],
      "metadata": {
        "id": "dthsvFWS-UmB"
      }
    },
    {
      "cell_type": "markdown",
      "source": [
        "This technique, which is rather general and can be used to make inferences about a multitude of parameters relating to population means, is known as the analysis of variance.\n",
        "\n",
        "We suppose that we have been provided samples of size $n$ from $m$ distinct populations and that we want to use these data to test the hypothesis that the $m$ population means are equal."
      ],
      "metadata": {
        "id": "yRiF35t89W4t"
      }
    },
    {
      "cell_type": "markdown",
      "source": [
        "<a name='Equal_Sample_Sizes'></a>\n",
        "\n",
        "### **7.1.1. Equal Sample Sizes:**"
      ],
      "metadata": {
        "id": "f2CRhyLNZZ5N"
      }
    },
    {
      "cell_type": "markdown",
      "source": [
        "Since the mean of a random variable depends only on a single factor, namely, the sample the variable is from, this scenario is said to constitute a one-way analysis of variance.\n",
        "\n",
        "One way of thinking about this is to imagine that we have $m$ different treatments, where the result of applying treatment $i$ on an item is a normal random variable with mean $\\mu_i$ and variance $\\sigma^2$. We are then interested in testing the hypothesis that all treatments have the same effect, by applying each treatment to a (different) sample of $n$ items and then analyzing the result.\n",
        "\n",
        "Consider $m$ independent samples, each of size $n$, where the members of the ith sample $X_{i1}, X_{i2}, . . . , X_{in}$ are normal random variables with unknown mean $\\mu_i$ and unknown variance $\\sigma^2$.\n",
        "\n",
        "$X_{ij} \\sim N(\\mu_i, \\sigma^2) \\quad i=1,...,m,\\ j=1,...,n$\n",
        "\n",
        "$\\\\ $\n",
        "\n",
        "$H_0: \\mu_1=\\mu_2=...=\\mu_m$\n",
        "\n",
        "$H_1:$ not all the means are equal (at least two of them differ.)"
      ],
      "metadata": {
        "id": "MfiPoYrp-4U4"
      }
    },
    {
      "cell_type": "markdown",
      "source": [
        "**Within samples sum of squares:**\n",
        "\n",
        "Since there are a total of $nm$ independent normal random variables $X_{ij}$, it follows that the sum of the squares of their standardized versions will be a chi-square random variable with $nm$ degrees of freedom.\n",
        "\n",
        "$\\sum_{i=1}^m \\sum_{j=1}^n \\frac{(X_{ij}-E[X_{ij}])^2}{\\sigma^2} = \\sum_{i=1}^m \\sum_{j=1}^n \\frac{(X_{ij}- \\mu_i)^2}{\\sigma^2} \\sim \\chi^2_{nm}$\n",
        "\n",
        "To obtain estimators for the $m$ unknown parameters $\\mu_1, . . . ,\\mu_m$, let $X_{i.}$ denote the average of all the elements in sample $i$:\n",
        "\n",
        "$X_{i.} = \\sum_{j=1}^n \\frac{X_{ij}}{n}$\n",
        "\n",
        "The variable $X_{i.}$ is the sample mean of the ith population, and as such is the estimator of the population mean $\\mu_i$ for $i=1,...,m$.\n",
        "\n",
        "Then if we substitute the $\\mu$ with $X_{i.}$ the following variable will have chi-square distribution with $nm − m$ degrees of freedom. (Recall that 1 degree of freedom is lost for each parameter that is estimated.)\n",
        "\n",
        "$\\sum_{i=1}^m \\sum_{j=1}^n \\frac{(X_{ij}- X_{i.})^2}{\\sigma^2} \\sim \\chi^2_{nm-m}$\n",
        "\n",
        "$SS_W = \\sum_{i=1}^m \\sum_{j=1}^n (X_{ij}- X_{i.})^2$\n",
        "\n",
        "$\\frac{E[SS_W]}{\\sigma^2} = nm-m \\quad  \\rightarrow \\quad \\frac{E[SS_W]}{nm-m} = \\sigma^2$\n",
        "\n",
        "$\\frac{SS_W}{nm-m}$ is an estimator of $\\sigma^2$."
      ],
      "metadata": {
        "id": "IsmBOUo2EB6_"
      }
    },
    {
      "cell_type": "markdown",
      "source": [
        "**between samples sum of squares:**\n",
        "\n",
        "assume that $H_0$ is true and so all the population means $μ_i$ are equal, say, $μ_i = μ$ for all $i$. Under this condition it follows that the $m$ sample means $X_{1.}, X_{2.}, . . ., X_m$. will all be normally distributed with the same mean $\\mu$ and the same variance $\\frac{\\sigma^2}{n}$. Hence, the sum of squares of the $m$ standardized variables $\\frac{X_{i.}-\\mu}{\\sqrt{\\frac{\\sigma^2}{n}}} = \\frac{\\sqrt{n}(X_{i.}-\\mu)}{\\sigma}$ will be a chi-square random variable with $m$ degrees of freedoms.\n",
        "\n",
        "$\\sum_{i=1}^m \\frac{n(X_{i.}-\\mu)^2}{\\sigma^2} \\sim \\chi_m^2$\n",
        "\n",
        "Now, when all the population means are equal to $\\mu$, then the estimator of $\\mu$ is the average of all the nm data values. That is, the estimator of $\\mu$ is $X_{..}$.\n",
        "\n",
        "$X_{..} = \\frac{\\sum_{i=1}^m \\sum_{j=1}^n X_{ij}}{nm} = \\frac{\\sum_{i=1}^m X_{i.}}{m}$\n",
        "\n",
        "If we now substitute $X_{..}$ for the unknown parameter μ in expression $\\sum_{i=1}^m \\frac{n(X_{i.}-\\mu)^2}{\\sigma^2}$ it follows, when $H_0$ is true, that the resulting quantity will be a chi-square random variable with $m − 1$ degrees of freedom.\n",
        "\n",
        "$\\sum_{i=1}^m \\frac{n(X_{i.}-X_{..})^2}{\\sigma^2} \\sim \\chi_{m-1}^2$\n",
        "\n",
        "$SS_b = n \\sum_{i=1}^m (X_{i.}-X_{..})^2$\n",
        "\n",
        "When $H_0$ is true:\n",
        "\n",
        "$\\frac{E[SS_b]}{\\sigma^2} = m-1 \\quad \\rightarrow \\quad \\frac{E[SS_b]}{m-1} = \\sigma^2$\n",
        "\n",
        "$\\frac{SS_b}{m-1}$ is an estimator of $\\sigma^2$.\n",
        "\n",
        "<table>\n",
        "<thead>\n",
        "<tr><th>Estimators of $\\sigma^2$</th><th>Conditions</th></tr>\n",
        "</thead>\n",
        "<tbody>\n",
        "<tr><td>$\\frac{SS_W}{nm-m}$</td><td>Always true</td></tr>\n",
        "<tr><td>$\\frac{SS_b}{m-1}$</td><td>Only when $H_0$ is true</td></tr>\n",
        "</tbody>\n",
        "</table>"
      ],
      "metadata": {
        "id": "bS5UmLn3IhDF"
      }
    },
    {
      "cell_type": "markdown",
      "source": [
        "Because it can be shown that $\\frac{SS_b}{m-1}$ will tend to exceed $\\sigma^2$ when $H_0$ is not true, the test statistic is:\n",
        "\n",
        "$F_0 = \\frac{\\frac{SS_b}{m-1}}{\\frac{SS_W}{nm-m}}$\n",
        "\n",
        "$\\\\ $\n",
        "\n",
        "Significance level = $\\alpha$\n",
        "\n",
        "$\\\\ $\n",
        "\n",
        "We accept $H_0$ if:\n",
        "\n",
        "1. $F_0 < F_{m-1,\\ nm-m,\\ \\alpha}$\n",
        "\n",
        "2. P_value = $P(F_{m-1,\\ nm-m} \\geq F_0) > \\alpha$"
      ],
      "metadata": {
        "id": "icLzqh0lRl3g"
      }
    },
    {
      "cell_type": "markdown",
      "source": [
        "The sum of squares identity:\n",
        "\n",
        "$\\sum_{i=1}^m \\sum_{j=1}^n X_{ij}^2 = nmX_{..}^2 + SS_b + SS_W$"
      ],
      "metadata": {
        "id": "xlWt1DIPYtaY"
      }
    },
    {
      "cell_type": "markdown",
      "source": [
        "**Summary:**\n",
        "\n",
        "<table>\n",
        "<thead>\n",
        "<tr><th>--Source of Variation--</th><th>----------------------Sum of Squares----------------------</th><th>--Degrees of Freedom--</th><th>--Mean of Squares--</th><th>--Value of Test Statistic--</th></tr>\n",
        "</thead>\n",
        "<tbody>\n",
        "<tr><td>Between Samples</td><td>$SS_b=n\\sum_{i=1}^m(X_{i.}-X_{..})^2$</td><td>$m-1$</td><td>$MS_b = \\frac{SS_b}{m-1}$</td><td>$F_0 = \\frac{\\frac{SS_b}{m-1}}{\\frac{SS_W}{nm-m}}$\n",
        "</td></tr>\n",
        "<tr><td>Within Samples</td><td>$SS_W = \\sum_{i=1}^m \\sum_{j=1}^n (X_{ij}- X_{i.})^2$</td><td>$nm-m$</td><td>$MS_W = \\frac{SS_W}{nm-m}$</td><td></td></tr>\n",
        "<tr><td>Total</td><td>$SS_T = SS_W + SS_b = \\sum_{i=1}^m \\sum_{j=1}^n (X_{ij}- X_{..})^2$</td><td>$nm-1$</td><td></td><td></td></tr>\n",
        "</tbody>\n",
        "</table>"
      ],
      "metadata": {
        "id": "Ti5EqBy9JrrG"
      }
    },
    {
      "cell_type": "markdown",
      "source": [
        "You can do this test with f_oneway from scipy library."
      ],
      "metadata": {
        "id": "dq1LdNgzQcq-"
      }
    },
    {
      "cell_type": "code",
      "source": [
        "Sample1 = [220, 251, 226, 246, 260]\n",
        "Sample2 = [244, 235, 232, 242, 225]\n",
        "Sample3 = [252, 272, 250, 238, 256]\n",
        "\n",
        "alpha = 0.05\n",
        "results = f_oneway(Sample1, Sample2, Sample3)\n",
        "\n",
        "print(results, '\\n')\n",
        "\n",
        "if results[1] < alpha:\n",
        "  print(f'Since p_value < {alpha}, reject null hypothesis.')\n",
        "else:\n",
        "  print(f'Since p_value > {alpha}, the null hypothesis cannot be rejected.')"
      ],
      "metadata": {
        "colab": {
          "base_uri": "https://localhost:8080/",
          "height": 211
        },
        "id": "RoAxmqus7_B2",
        "outputId": "6e088749-ddc6-4ecb-e422-e527fc857b74"
      },
      "execution_count": null,
      "outputs": [
        {
          "output_type": "error",
          "ename": "NameError",
          "evalue": "name 'f_oneway' is not defined",
          "traceback": [
            "\u001b[0;31m---------------------------------------------------------------------------\u001b[0m",
            "\u001b[0;31mNameError\u001b[0m                                 Traceback (most recent call last)",
            "\u001b[0;32m<ipython-input-3-24213af37882>\u001b[0m in \u001b[0;36m<cell line: 6>\u001b[0;34m()\u001b[0m\n\u001b[1;32m      4\u001b[0m \u001b[0;34m\u001b[0m\u001b[0m\n\u001b[1;32m      5\u001b[0m \u001b[0malpha\u001b[0m \u001b[0;34m=\u001b[0m \u001b[0;36m0.05\u001b[0m\u001b[0;34m\u001b[0m\u001b[0;34m\u001b[0m\u001b[0m\n\u001b[0;32m----> 6\u001b[0;31m \u001b[0mresults\u001b[0m \u001b[0;34m=\u001b[0m \u001b[0mf_oneway\u001b[0m\u001b[0;34m(\u001b[0m\u001b[0mSample1\u001b[0m\u001b[0;34m,\u001b[0m \u001b[0mSample2\u001b[0m\u001b[0;34m,\u001b[0m \u001b[0mSample3\u001b[0m\u001b[0;34m)\u001b[0m\u001b[0;34m\u001b[0m\u001b[0;34m\u001b[0m\u001b[0m\n\u001b[0m\u001b[1;32m      7\u001b[0m \u001b[0;34m\u001b[0m\u001b[0m\n\u001b[1;32m      8\u001b[0m \u001b[0mprint\u001b[0m\u001b[0;34m(\u001b[0m\u001b[0mresults\u001b[0m\u001b[0;34m,\u001b[0m \u001b[0;34m'\\n'\u001b[0m\u001b[0;34m)\u001b[0m\u001b[0;34m\u001b[0m\u001b[0;34m\u001b[0m\u001b[0m\n",
            "\u001b[0;31mNameError\u001b[0m: name 'f_oneway' is not defined"
          ]
        }
      ]
    },
    {
      "cell_type": "markdown",
      "source": [
        "<a name='Unequal_Sample_Sizes'></a>\n",
        "\n",
        "### **7.1.2. Unequal Sample Sizes:**"
      ],
      "metadata": {
        "id": "EVRQF0HkZhxd"
      }
    },
    {
      "cell_type": "markdown",
      "source": [
        "Suppose that we have $m$ normal samples of respective sizes $n_1, n_2, ... , n_m$. That is, the data consist of the $\\sum_{i=1}^m n_i$\n",
        "independent random variables $Xij,\\ j = 1, ... , n_i,\\ i = 1, ... , m$, where $X_{ij} ∼ N (\\mu_i, \\sigma^2)$\n",
        "\n",
        "$\\\\ $\n",
        "\n",
        "$H_0: \\mu_1=\\mu_2=...=\\mu_m$\n",
        "\n",
        "$H_1:$ not all the means are equal (at least two of them differ.)"
      ],
      "metadata": {
        "id": "qdRARCxRZttP"
      }
    },
    {
      "cell_type": "markdown",
      "source": [
        "**Within samples sum of squares:**\n",
        "\n",
        "Since there are a total of $\\sum_{i=1}^m n_i$ independent normal random variables $X_{ij}$, it follows that the sum of the squares of their standardized versions will be a chi-square random variable with $\\sum_{i=1}^m n_i$ degrees of freedom.\n",
        "\n",
        "$\\sum_{i=1}^m \\sum_{j=1}^{n_i} \\frac{(X_{ij}-E[X_{ij}])^2}{\\sigma^2} = \\sum_{i=1}^m \\sum_{j=1}^{n_i} \\frac{(X_{ij}- \\mu_i)^2}{\\sigma^2} \\sim \\chi^2_{\\sum_{i=1}^m n_i}$\n",
        "\n",
        "To obtain estimators for the $m$ unknown parameters $\\mu_1, . . . ,\\mu_m$, let $X_{i.}$ denote the average of all the elements in sample $i$:\n",
        "\n",
        "$X_{i.} = \\sum_{j=1}^{n_i} \\frac{X_{ij}}{n}$\n",
        "\n",
        "The variable $X_{i.}$ is the sample mean of the ith population, and as such is the estimator of the population mean $\\mu_i$ for $i=1,...,m$.\n",
        "\n",
        "Then if we substitute the $\\mu$ with $X_{i.}$ the following variable will have chi-square distribution with $\\sum_{i=1}^m n_i - m$ degrees of freedom. (Recall that 1 degree of freedom is lost for each parameter that is estimated.)\n",
        "\n",
        "$\\sum_{i=1}^m \\sum_{j=1}^{n_i} \\frac{(X_{ij}- X_{i.})^2}{\\sigma^2} \\sim \\chi^2_{\\sum_{i=1}^m n_i - m}$\n",
        "\n",
        "$SS_W = \\sum_{i=1}^m \\sum_{j=1}^{n_i} (X_{ij}- X_{i.})^2$\n",
        "\n",
        "$\\frac{E[SS_W]}{\\sigma^2} = \\sum_{i=1}^m n_i - m \\quad  \\rightarrow \\quad \\frac{E[SS_W]}{\\sum_{i=1}^m n_i - m} = \\sigma^2$\n",
        "\n",
        "$\\frac{SS_W}{\\sum_{i=1}^m n_i - m}$ is an estimator of $\\sigma^2$."
      ],
      "metadata": {
        "id": "PHvjr5IDarxc"
      }
    },
    {
      "cell_type": "markdown",
      "source": [
        "**between samples sum of squares:**\n",
        "\n",
        "assume that $H_0$ is true and so all the population means $μ_i$ are equal, say, $μ_i = μ$ for all $i$. Under this condition it follows that the $m$ sample means $X_{1.}, X_{2.}, . . ., X_m$. will all be normally distributed with the same mean $\\mu$ and the same variance $\\frac{\\sigma^2}{n_i}$. Hence, the sum of squares of the $m$ standardized variables $\\frac{X_{i.}-\\mu}{\\sqrt{\\frac{\\sigma^2}{n_i}}} = \\frac{\\sqrt{n_i}(X_{i.}-\\mu)}{\\sigma}$ will be a chi-square random variable with $m$ degrees of freedoms.\n",
        "\n",
        "$\\sum_{i=1}^m \\frac{n_i(X_{i.}-\\mu)^2}{\\sigma^2} \\sim \\chi_m^2$\n",
        "\n",
        "Now, when all the population means are equal to $\\mu$, then the estimator of $\\mu$ is the average of all the nm data values. That is, the estimator of $\\mu$ is $X_{..}$.\n",
        "\n",
        "$X_{..} = \\frac{\\sum_{i=1}^m \\sum_{j=1}^{n_i} X_{ij}}{\\sum_{i=1}^m n_i} = \\frac{\\sum_{i=1}^m X_{i.}}{m}$\n",
        "\n",
        "If we now substitute $X_{..}$ for the unknown parameter $\\mu$ in expression $\\sum_{i=1}^m \\frac{n_i(X_{i.}-\\mu)^2}{\\sigma^2}$ it follows, when $H_0$ is true, that the resulting quantity will be a chi-square random variable with $m − 1$ degrees of freedom.\n",
        "\n",
        "$\\sum_{i=1}^m \\frac{n_i(X_{i.}-X_{..})^2}{\\sigma^2} \\sim \\chi_{m-1}^2$\n",
        "\n",
        "$SS_b = n_i \\sum_{i=1}^m (X_{i.}-X_{..})^2$\n",
        "\n",
        "When $H_0$ is true:\n",
        "\n",
        "$\\frac{E[SS_b]}{\\sigma^2} = m-1 \\quad \\rightarrow \\quad \\frac{E[SS_b]}{m-1} = \\sigma^2$\n",
        "\n",
        "$\\frac{SS_b}{m-1}$ is an estimator of $\\sigma^2$.\n",
        "\n",
        "<table>\n",
        "<thead>\n",
        "<tr><th>Estimators of $\\sigma^2$</th><th>Conditions</th></tr>\n",
        "</thead>\n",
        "<tbody>\n",
        "<tr><td>$\\frac{SS_W}{\\sum_{i=1}^m n_i - m}$</td><td>Always true</td></tr>\n",
        "<tr><td>$\\frac{SS_b}{m-1}$</td><td>Only when $H_0$ is true</td></tr>\n",
        "</tbody>\n",
        "</table>"
      ],
      "metadata": {
        "id": "krC3IvY8dJZ2"
      }
    },
    {
      "cell_type": "markdown",
      "source": [
        "Because it can be shown that $\\frac{SS_b}{m-1}$ will tend to exceed $\\sigma^2$ when $H_0$ is not true, the test statistic is:\n",
        "\n",
        "$F_0 = \\frac{\\frac{SS_b}{m-1}}{\\frac{SS_W}{\\sum_{i=1}^m n_i - m}}$\n",
        "\n",
        "$\\\\ $\n",
        "\n",
        "Significance level = $\\alpha$\n",
        "\n",
        "$\\\\ $\n",
        "\n",
        "We accept $H_0$ if:\n",
        "\n",
        "1. $F_0 < F_{m-1,\\ \\sum_{i=1}^m n_i - m,\\ \\alpha}$\n",
        "\n",
        "2. P_value = $P(F_{m-1,\\ \\sum_{i=1}^m n_i - m} \\geq F_0) > \\alpha$"
      ],
      "metadata": {
        "id": "7f34W5C3fr-I"
      }
    },
    {
      "cell_type": "markdown",
      "source": [
        "**Summary:**\n",
        "\n",
        "<table>\n",
        "<thead>\n",
        "<tr><th>--Source of Variation--</th><th>----------------------Sum of Squares----------------------</th><th>--Degrees of Freedom--</th><th>---Mean of Squares---</th><th>--Value of Test Statistic--</th></tr>\n",
        "</thead>\n",
        "<tbody>\n",
        "<tr><td>Between Samples</td><td>$SS_b = n_i \\sum_{i=1}^m (X_{i.}-X_{..})^2$</td><td>$m-1$</td><td>$MS_b = \\frac{SS_b}{m-1}$</td><td>$F_0 = \\frac{\\frac{SS_b}{m-1}}{\\frac{SS_W}{\\sum_{i=1}^m n_i - m}}$\n",
        "</td></tr>\n",
        "<tr><td>Within Samples</td><td>$SS_W = \\sum_{i=1}^m \\sum_{j=1}^{n_i} (X_{ij}- X_{i.})^2$</td><td>$\\sum_{i=1}^m n_i - m$</td><td>$MS_W = \\frac{SS_W}{\\sum_{i=1}^m n_i - m}$</td><td></td></tr>\n",
        "<tr><td>Total</td><td>$SS_T = SS_W + SS_b = \\sum_{i=1}^m \\sum_{j=1}^{n_i} (X_{ij}- X_{..})^2$</td><td>$\\sum_{i=1}^m n_i-1$</td><td></td><td></td></tr>\n",
        "</tbody>\n",
        "</table>"
      ],
      "metadata": {
        "id": "qpx-mpOhgAtR"
      }
    },
    {
      "cell_type": "code",
      "source": [
        "Sample1 = [220, 251, 226, 246, 260]\n",
        "Sample2 = [244, 235, 232, 242]\n",
        "Sample3 = [252, 272, 250]\n",
        "\n",
        "alpha = 0.05\n",
        "results = f_oneway(Sample1, Sample2, Sample3)\n",
        "\n",
        "print(results, '\\n')\n",
        "\n",
        "if results[1] < alpha:\n",
        "  print(f'Since p_value < {alpha}, reject null hypothesis.')\n",
        "else:\n",
        "  print(f'Since p_value > {alpha}, the null hypothesis cannot be rejected.')"
      ],
      "metadata": {
        "colab": {
          "base_uri": "https://localhost:8080/",
          "height": 211
        },
        "id": "sRUSJO4YZkFc",
        "outputId": "df9bc5c5-28f6-479b-d777-b3ce6c49fa8d"
      },
      "execution_count": null,
      "outputs": [
        {
          "output_type": "error",
          "ename": "NameError",
          "evalue": "name 'f_oneway' is not defined",
          "traceback": [
            "\u001b[0;31m---------------------------------------------------------------------------\u001b[0m",
            "\u001b[0;31mNameError\u001b[0m                                 Traceback (most recent call last)",
            "\u001b[0;32m<ipython-input-1-e4a35013e0a2>\u001b[0m in \u001b[0;36m<cell line: 6>\u001b[0;34m()\u001b[0m\n\u001b[1;32m      4\u001b[0m \u001b[0;34m\u001b[0m\u001b[0m\n\u001b[1;32m      5\u001b[0m \u001b[0malpha\u001b[0m \u001b[0;34m=\u001b[0m \u001b[0;36m0.05\u001b[0m\u001b[0;34m\u001b[0m\u001b[0;34m\u001b[0m\u001b[0m\n\u001b[0;32m----> 6\u001b[0;31m \u001b[0mresults\u001b[0m \u001b[0;34m=\u001b[0m \u001b[0mf_oneway\u001b[0m\u001b[0;34m(\u001b[0m\u001b[0mSample1\u001b[0m\u001b[0;34m,\u001b[0m \u001b[0mSample2\u001b[0m\u001b[0;34m,\u001b[0m \u001b[0mSample3\u001b[0m\u001b[0;34m)\u001b[0m\u001b[0;34m\u001b[0m\u001b[0;34m\u001b[0m\u001b[0m\n\u001b[0m\u001b[1;32m      7\u001b[0m \u001b[0;34m\u001b[0m\u001b[0m\n\u001b[1;32m      8\u001b[0m \u001b[0mprint\u001b[0m\u001b[0;34m(\u001b[0m\u001b[0mresults\u001b[0m\u001b[0;34m,\u001b[0m \u001b[0;34m'\\n'\u001b[0m\u001b[0;34m)\u001b[0m\u001b[0;34m\u001b[0m\u001b[0;34m\u001b[0m\u001b[0m\n",
            "\u001b[0;31mNameError\u001b[0m: name 'f_oneway' is not defined"
          ]
        }
      ]
    },
    {
      "cell_type": "markdown",
      "source": [
        "<a name='Two-Way_Analysis_of_Variance'></a>\n",
        "\n",
        "## **7.2. Two-Way Analysis of Variance:**"
      ],
      "metadata": {
        "id": "6r7fJg2TiQlk"
      }
    },
    {
      "cell_type": "markdown",
      "source": [
        "We suppose that each data value is affected by two factors. We will refer to the first factor as the \"row\" factor, and the second factor as\n",
        "the \"column\" factor. we will suppose that the data $X_{ij},\\ i = 1, ... , m,\\ j = 1, ... , n$ are independent normal random variables with a common variance $\\sigma^2$ and we suppose that the mean value of data depends in an additive manner on both its row and its column.\n",
        "\n",
        "We let $X_{ij}$ represent the value of the jth member of\n",
        "sample $i$, then that model could be symbolically represented as: $E[X_{ij}] = \\mu_i$\n",
        "\n",
        "However, if we let $\\mu$ denote the average value of the $\\mu_i$ $(\\mu = \\frac{\\sum_{i=1}^m \\mu_i}{m})$ then we can rewrite the model as $E[X_{ij}] = \\mu + \\alpha_i$ where $\\alpha_i = \\mu_i -\\mu$\n",
        "\n",
        "With this definition of $\\alpha_i$ as the deviation of $\\mu_i$ from the average mean value, it is easy to see that $\\sum_{i=1}^m \\alpha_i = 0$\n",
        "\n",
        "A two-factor additive model can also be expressed in terms of row and column deviations.\n",
        "\n",
        "If we let $\\mu_{ij} = E[X_{ij}]$, then the additive model supposes that for some constants $a_i,\\ i = 1, ... , m$ and $b_j,\\ j = 1, ... , n$\n",
        "\n",
        "$\\mu_{ij} = \\alpha_i + b_j$\n",
        "\n",
        "Continuing our use of the \"dot\" (or averaging) notation, we let\n",
        "\n",
        "$\\mu_{i.} = \\sum_{j=1}^n \\frac{\\mu_{ij}}{n} \\qquad \\mu_{.j} = \\sum_{i=1}^m \\frac{\\mu_{ij}}{m} \\qquad \\mu_{..} = \\sum_{i=1}^m \\sum_{j=1}^n\\frac{\\mu_{ij}}{nm}$\n",
        "\n",
        "$a_. = \\sum_{i=1}^m \\frac{a_i}{m} \\qquad b_. = \\sum_{j=1}^n \\frac{b_j}{n}$\n",
        "\n",
        "Note that:\n",
        "\n",
        "$\\mu_{i.} = \\sum_{j=1}^n \\frac{(a_i + b_j)}{n} = a_i + b_. \\qquad \\mu_{.j} = a_. + b_j \\qquad \\mu_{..} = a_. + b_.$\n",
        "\n",
        "If we now set\n",
        "\n",
        "$\\mu = \\mu_{..} = a_. + b_. \\qquad \\alpha_i = \\mu_{i.}-\\mu = \\alpha_i -\\alpha_. \\qquad \\beta_j = \\mu_{.j}-\\mu = b_j - b_.$\n",
        "\n",
        "Then the model can be written as\n",
        "\n",
        "$\\mu_{ij} = E[X_{ij}] = \\mu + \\alpha_i + \\beta_j$\n",
        "\n",
        "The value $\\mu$ is called the grand mean, $\\alpha_i$ is the deviation from the grand mean due to row $i$, and $\\beta_j$ is the deviation from the grand mean due to column $j$.\n",
        "\n",
        "$X_{i.}=\\frac{\\sum_{j=1}^n X_{ij}}{n} \\qquad X_{.j}=\\frac{\\sum_{i=1}^m X_{ij}}{m} \\qquad X_{..}=\\frac{\\sum_{i=1}^m \\sum_{j=1}^n X_{ij}}{nm}$\n",
        "\n",
        "Unbiased estimators of $\\mu, \\alpha_i, \\beta_j$ — call them $\\widehat{\\mu},\\ \\widehat{\\alpha_i},\\ \\widehat{\\beta_j}$ — are given by\n",
        "\n",
        "$\\widehat{\\mu} = X_{..} \\qquad \\widehat{\\alpha_i} = X_{i.} - X_{..} \\qquad \\widehat{\\beta_j} = X_{.j} - X_{..}$"
      ],
      "metadata": {
        "id": "XqazMIWzi6Wr"
      }
    },
    {
      "cell_type": "markdown",
      "source": [
        "**Hypothesis Tests:**\n",
        "\n",
        "Test 1:\n",
        "\n",
        "$H_0:$ all $\\alpha_i = 0$\n",
        "\n",
        "$H_1:$ not all the $\\alpha_i$ are equal to 0\n",
        "\n",
        "This null hypothesis states that there is no row effect, in that the value of a data is not affected by its row factor level.\n",
        "\n",
        "$\\\\ $\n",
        "\n",
        "Test 2:\n",
        "\n",
        "$H_0:$ all $\\beta_i = 0$\n",
        "\n",
        "$H_1:$ not all the $\\beta_i$ are equal to 0\n",
        "\n",
        "This null hypothesis states that there is no column effect, in that the value of a data is not affected by its column factor level."
      ],
      "metadata": {
        "id": "0NWDjsqbwXtn"
      }
    },
    {
      "cell_type": "markdown",
      "source": [
        "**Error Sum of Squares:**\n",
        "\n",
        "To obtain tests for the above null hypotheses, we will apply the analysis of variance approach in which two different estimators are derived for the variance $\\sigma^2$. The first will always be a valid estimator, whereas the second will only be a valid estimator when the null hypothesis is true. In addition, the second estimator will tend to overestimate $\\sigma^2$ when the null hypothesis is not true.\n",
        "\n",
        "To obtain our first estimator of σ2, we start with the fact that:\n",
        "$\\sum_{i=1}^m \\sum_{j=1}^n \\frac{(X_{ij}-E[X_{ij}])^2}{\\sigma^2} = \\sum_{i=1}^m \\sum_{j=1}^n \\frac{(X_{ij}-\\mu-\\alpha_i-\\beta_j)^2}{\\sigma^2} \\sim \\chi_{nm}^2$\n",
        "\n",
        "If in the above expression we now replace the unknown parameters $\\mu, \\alpha_1, \\alpha_2, ... , \\alpha_m, \\beta_1, \\beta_2, ... , \\beta_n$ by their estimators $\\widehat{\\mu}, \\widehat{\\alpha_1}, \\widehat{\\alpha_2}, ... , \\widehat{\\alpha_m}, \\widehat{\\beta_1}, \\widehat{\\beta_2}, ... , \\widehat{\\beta_n}$, then it turns out that the resulting expression will remain chi-square but will lose $1$ degree of freedom for each parameter that is estimated. Therefore,\n",
        "\n",
        "$\\sum_{i=1}^m \\sum_{j=1}^n \\frac{(X_{ij}-\\widehat{\\mu}-\\widehat{\\alpha_i}-\\widehat{\\beta_j})^2}{\\sigma^2} = \\sum_{i=1}^m \\sum_{j=1}^n \\frac{(X_{ij}-X_{i.}-X_{.j}+X_{..})^2}{\\sigma^2} \\sim \\chi_{nm-(n+m-1)=(n-1)(m-1)}^2$\n",
        "\n",
        "$SS_e = \\sum_{i=1}^m \\sum_{j=1}^n (X_{ij}-X_{i.}-X_{.j}+X_{..})^2$\n",
        "\n",
        "$\\frac{E[SS_e]}{\\sigma^2} = (n-1)(m-1) \\quad  \\rightarrow \\quad \\frac{E[SS_e]}{(n-1)(m-1)} = \\sigma^2$\n",
        "\n",
        "$\\frac{SS_e}{(n-1)(m-1)}$ is an unbiased estimator of $\\sigma^2$."
      ],
      "metadata": {
        "id": "3PUDFUAEEbwi"
      }
    },
    {
      "cell_type": "markdown",
      "source": [
        "**Row Sum of Squares:**\n",
        "\n",
        "Suppose now that we want to test the null hypothesis that there is no row effect.\n",
        "\n",
        "To obtain a second estimator of $\\sigma^2$, consider the row averages $X_{i.},\\ i = 1, ... , m$. Note that, when $H_0$ is true, each $\\alpha_i$ is equal to 0, and so $E[X_{i.}] = \\mu+\\alpha_i = \\mu$.\n",
        "Because each $X_{i.}$ is the average of $n$ random variables, each having variance $\\sigma^2$, it follows that $Var(X_{i.})=\\frac{\\sigma^2}{n}$.\n",
        "\n",
        "Thus, we see that when $H_0$ is true:\n",
        "\n",
        "$\\sum_{i=1}^m \\frac{(X_{i.}-E[X_{i.}])^2}{Var(X_{i.})} = n \\sum_{i=1}^m \\frac{(X_{i.}-\\mu)^2}{\\sigma^2} \\sim \\chi_m^2$\n",
        "\n",
        "$SS_r = n \\sum_{i=1}^m (X_{i.}-X_{..})^2$\n",
        "\n",
        "$\\frac{E[SS_r]}{\\sigma^2} = m-1 \\quad  \\rightarrow \\quad \\frac{E[SS_r]}{m-1} = \\sigma^2$\n",
        "\n",
        "$\\frac{SS_r}{m-1}$ is an estimator of $\\sigma^2$."
      ],
      "metadata": {
        "id": "O-BKFeclL9bv"
      }
    },
    {
      "cell_type": "markdown",
      "source": [
        "<table>\n",
        "<thead>\n",
        "<tr><th>Estimators of $\\sigma^2$</th><th>Conditions</th></tr>\n",
        "</thead>\n",
        "<tbody>\n",
        "<tr><td>$\\frac{SS_e}{(n−1)(m−1)}$</td><td>Always true</td></tr>\n",
        "<tr><td>$\\frac{SS_r}{m-1}$</td><td>Only when $H_0$ is true</td></tr>\n",
        "<tr><td>$\\frac{SS_c}{n-1}$</td><td>Only when $H_0$ is true</td></tr>\n",
        "</tbody>\n",
        "</table>"
      ],
      "metadata": {
        "id": "dA34-5xZPGyq"
      }
    },
    {
      "cell_type": "markdown",
      "source": [
        "**Summary:**\n",
        "\n",
        "<table>\n",
        "<thead>\n",
        "<tr><th></th><th>----------------------Sum of Squares----------------------</th><th>--Degrees of Freedom--</th></tr>\n",
        "</thead>\n",
        "<tbody>\n",
        "<tr><td>Row</td><td>$SS_r = n \\sum_{i=1}^m (X_{i.}-X_{..})^2$</td><td>$m-1$</td></tr>\n",
        "<tr><td>Column</td><td>$SS_c = \\sum_{j=1}^n (X_{.j}-X_{..})^2$</td><td>$m-1$</td></tr>\n",
        "<tr><td>Error</td><td>$\\sum_{i=1}^m \\sum_{j=1}^n (X_{ij}-X_{i.}-X_{.j}+X_{..})^2$</td><td>$(n-1)(m-1)$</td></tr>\n",
        "</tbody>\n",
        "</table>\n",
        "\n",
        "$\\\\ $\n",
        "\n",
        "<table>\n",
        "<thead>\n",
        "<tr><th>--Null Hypothesis--</th><th>--Test Statistics--</th><th>----Significance Level $\\alpha$ Test----</th><th>------------P_Value------------</th></tr>\n",
        "</thead>\n",
        "<tbody>\n",
        "<tr><td>All $\\alpha_i = 0$</td><td>$\\frac{\\frac{SS_r}{m-1}}{\\frac{SS_e}{(n-1)(m-1)}}$</td><td>Reject if $F_0 \\geq F_{m-1,(n-1)(m-1),\\alpha}$</td><td>$P(F_{m-1,(n-1)(m-1)} \\geq F_0)$</td></tr>\n",
        "<tr><td>All $\\beta_j = 0$</td><td>$\\frac{\\frac{SS_c}{n-1}}{\\frac{SS_e}{(n-1)(m-1)}}$</td><td>Reject if $F_0 \\geq F_{n-1,(n-1)(m-1),\\alpha}$</td><td>$P(F_{n-1,(n-1)(m-1)} \\geq F_0)$</td></tr>\n",
        "</tbody>\n",
        "</table>"
      ],
      "metadata": {
        "id": "jZfYFeZSQGIh"
      }
    },
    {
      "cell_type": "code",
      "source": [
        "# recovery time\n",
        "A = [9,6,8,4,6]\n",
        "# treatment time\n",
        "B = [10,4,4,6,5]\n",
        "\n",
        "# y is 1 2 3\n",
        "# patient satisfaction level\n",
        "C = [1,2,2,3,1]\n",
        "\n",
        "data = pd.DataFrame()\n",
        "\n",
        "data['A'] = A\n",
        "data['B'] = B\n",
        "data['C'] = C\n",
        "\n",
        "model = ols('C ~ A + B + A:B', data=data).fit()\n",
        "aov_table = anova_lm(model, type=2)\n",
        "print(aov_table.round(4))"
      ],
      "metadata": {
        "colab": {
          "base_uri": "https://localhost:8080/",
          "height": 211
        },
        "id": "17Z_Tu2jidrS",
        "outputId": "53fe33aa-0fcc-4d43-82ab-690e22b0095c"
      },
      "execution_count": null,
      "outputs": [
        {
          "output_type": "error",
          "ename": "NameError",
          "evalue": "name 'pd' is not defined",
          "traceback": [
            "\u001b[0;31m---------------------------------------------------------------------------\u001b[0m",
            "\u001b[0;31mNameError\u001b[0m                                 Traceback (most recent call last)",
            "\u001b[0;32m<ipython-input-4-b599eaed03d1>\u001b[0m in \u001b[0;36m<cell line: 10>\u001b[0;34m()\u001b[0m\n\u001b[1;32m      8\u001b[0m \u001b[0mC\u001b[0m \u001b[0;34m=\u001b[0m \u001b[0;34m[\u001b[0m\u001b[0;36m1\u001b[0m\u001b[0;34m,\u001b[0m\u001b[0;36m2\u001b[0m\u001b[0;34m,\u001b[0m\u001b[0;36m2\u001b[0m\u001b[0;34m,\u001b[0m\u001b[0;36m3\u001b[0m\u001b[0;34m,\u001b[0m\u001b[0;36m1\u001b[0m\u001b[0;34m]\u001b[0m\u001b[0;34m\u001b[0m\u001b[0;34m\u001b[0m\u001b[0m\n\u001b[1;32m      9\u001b[0m \u001b[0;34m\u001b[0m\u001b[0m\n\u001b[0;32m---> 10\u001b[0;31m \u001b[0mdata\u001b[0m \u001b[0;34m=\u001b[0m \u001b[0mpd\u001b[0m\u001b[0;34m.\u001b[0m\u001b[0mDataFrame\u001b[0m\u001b[0;34m(\u001b[0m\u001b[0;34m)\u001b[0m\u001b[0;34m\u001b[0m\u001b[0;34m\u001b[0m\u001b[0m\n\u001b[0m\u001b[1;32m     11\u001b[0m \u001b[0;34m\u001b[0m\u001b[0m\n\u001b[1;32m     12\u001b[0m \u001b[0mdata\u001b[0m\u001b[0;34m[\u001b[0m\u001b[0;34m'A'\u001b[0m\u001b[0;34m]\u001b[0m \u001b[0;34m=\u001b[0m \u001b[0mA\u001b[0m\u001b[0;34m\u001b[0m\u001b[0;34m\u001b[0m\u001b[0m\n",
            "\u001b[0;31mNameError\u001b[0m: name 'pd' is not defined"
          ]
        }
      ]
    },
    {
      "cell_type": "markdown",
      "source": [
        "The p-values for A and B turn out to be greater than 0.05 which implies that the means of both the factors don't possess a statistically significant effect on C."
      ],
      "metadata": {
        "id": "lq5KxFRFARch"
      }
    },
    {
      "cell_type": "markdown",
      "source": [
        "# **Real World Application**"
      ],
      "metadata": {
        "id": "jnVYRPv1962X"
      }
    },
    {
      "cell_type": "code",
      "source": [
        "# Load Dataset\n",
        "!gdown --id 1Qk5FZxfA_jhDcxI3YmuEIbVgd8ZeldMn"
      ],
      "metadata": {
        "colab": {
          "base_uri": "https://localhost:8080/"
        },
        "id": "biUN2uaK-FpL",
        "outputId": "e841aa0c-55cc-463d-b2f1-16d7750d3709"
      },
      "execution_count": null,
      "outputs": [
        {
          "output_type": "stream",
          "name": "stdout",
          "text": [
            "/usr/local/lib/python3.10/dist-packages/gdown/cli.py:138: FutureWarning: Option `--id` was deprecated in version 4.3.1 and will be removed in 5.0. You don't need to pass it anymore to use a file ID.\n",
            "  warnings.warn(\n",
            "Downloading...\n",
            "From: https://drive.google.com/uc?id=1Qk5FZxfA_jhDcxI3YmuEIbVgd8ZeldMn\n",
            "To: /content/BMI Calculation_MJH.xlsx\n",
            "100% 138k/138k [00:00<00:00, 94.6MB/s]\n"
          ]
        }
      ]
    },
    {
      "cell_type": "code",
      "source": [
        "import pandas as pd\n",
        "df_csv=pd.read_excel('/content/BMI Calculation_MJH.xlsx')\n",
        "df_csv.head()\n"
      ],
      "metadata": {
        "id": "2drDEEzj-Q0u",
        "colab": {
          "base_uri": "https://localhost:8080/",
          "height": 206
        },
        "outputId": "468f91f3-2a5b-404e-a0da-c7cff729b098"
      },
      "execution_count": null,
      "outputs": [
        {
          "output_type": "execute_result",
          "data": {
            "text/plain": [
              "   Feet  Inch  Hieght (cm)  Hieght (m2)    W1    W2  BMI (Before COVID)  \\\n",
              "0     5   6.0       167.64     2.810317  70.0  78.0           24.908222   \n",
              "1     5   1.0       154.94     2.400640  51.0  55.0           21.244332   \n",
              "2     5   0.0       152.40     2.322576  44.0  49.0           18.944482   \n",
              "3     5   1.0       154.94     2.400640  49.0  47.0           20.411221   \n",
              "4     5   3.0       160.02     2.560640  75.0  78.0           29.289552   \n",
              "\n",
              "   BMI (During COVID)  \n",
              "0           27.754876  \n",
              "1           22.910554  \n",
              "2           21.097264  \n",
              "3           19.578110  \n",
              "4           30.461134  "
            ],
            "text/html": [
              "\n",
              "  <div id=\"df-160acb88-34fb-46b2-95b7-21c5f97d24ae\" class=\"colab-df-container\">\n",
              "    <div>\n",
              "<style scoped>\n",
              "    .dataframe tbody tr th:only-of-type {\n",
              "        vertical-align: middle;\n",
              "    }\n",
              "\n",
              "    .dataframe tbody tr th {\n",
              "        vertical-align: top;\n",
              "    }\n",
              "\n",
              "    .dataframe thead th {\n",
              "        text-align: right;\n",
              "    }\n",
              "</style>\n",
              "<table border=\"1\" class=\"dataframe\">\n",
              "  <thead>\n",
              "    <tr style=\"text-align: right;\">\n",
              "      <th></th>\n",
              "      <th>Feet</th>\n",
              "      <th>Inch</th>\n",
              "      <th>Hieght (cm)</th>\n",
              "      <th>Hieght (m2)</th>\n",
              "      <th>W1</th>\n",
              "      <th>W2</th>\n",
              "      <th>BMI (Before COVID)</th>\n",
              "      <th>BMI (During COVID)</th>\n",
              "    </tr>\n",
              "  </thead>\n",
              "  <tbody>\n",
              "    <tr>\n",
              "      <th>0</th>\n",
              "      <td>5</td>\n",
              "      <td>6.0</td>\n",
              "      <td>167.64</td>\n",
              "      <td>2.810317</td>\n",
              "      <td>70.0</td>\n",
              "      <td>78.0</td>\n",
              "      <td>24.908222</td>\n",
              "      <td>27.754876</td>\n",
              "    </tr>\n",
              "    <tr>\n",
              "      <th>1</th>\n",
              "      <td>5</td>\n",
              "      <td>1.0</td>\n",
              "      <td>154.94</td>\n",
              "      <td>2.400640</td>\n",
              "      <td>51.0</td>\n",
              "      <td>55.0</td>\n",
              "      <td>21.244332</td>\n",
              "      <td>22.910554</td>\n",
              "    </tr>\n",
              "    <tr>\n",
              "      <th>2</th>\n",
              "      <td>5</td>\n",
              "      <td>0.0</td>\n",
              "      <td>152.40</td>\n",
              "      <td>2.322576</td>\n",
              "      <td>44.0</td>\n",
              "      <td>49.0</td>\n",
              "      <td>18.944482</td>\n",
              "      <td>21.097264</td>\n",
              "    </tr>\n",
              "    <tr>\n",
              "      <th>3</th>\n",
              "      <td>5</td>\n",
              "      <td>1.0</td>\n",
              "      <td>154.94</td>\n",
              "      <td>2.400640</td>\n",
              "      <td>49.0</td>\n",
              "      <td>47.0</td>\n",
              "      <td>20.411221</td>\n",
              "      <td>19.578110</td>\n",
              "    </tr>\n",
              "    <tr>\n",
              "      <th>4</th>\n",
              "      <td>5</td>\n",
              "      <td>3.0</td>\n",
              "      <td>160.02</td>\n",
              "      <td>2.560640</td>\n",
              "      <td>75.0</td>\n",
              "      <td>78.0</td>\n",
              "      <td>29.289552</td>\n",
              "      <td>30.461134</td>\n",
              "    </tr>\n",
              "  </tbody>\n",
              "</table>\n",
              "</div>\n",
              "    <div class=\"colab-df-buttons\">\n",
              "\n",
              "  <div class=\"colab-df-container\">\n",
              "    <button class=\"colab-df-convert\" onclick=\"convertToInteractive('df-160acb88-34fb-46b2-95b7-21c5f97d24ae')\"\n",
              "            title=\"Convert this dataframe to an interactive table.\"\n",
              "            style=\"display:none;\">\n",
              "\n",
              "  <svg xmlns=\"http://www.w3.org/2000/svg\" height=\"24px\" viewBox=\"0 -960 960 960\">\n",
              "    <path d=\"M120-120v-720h720v720H120Zm60-500h600v-160H180v160Zm220 220h160v-160H400v160Zm0 220h160v-160H400v160ZM180-400h160v-160H180v160Zm440 0h160v-160H620v160ZM180-180h160v-160H180v160Zm440 0h160v-160H620v160Z\"/>\n",
              "  </svg>\n",
              "    </button>\n",
              "\n",
              "  <style>\n",
              "    .colab-df-container {\n",
              "      display:flex;\n",
              "      gap: 12px;\n",
              "    }\n",
              "\n",
              "    .colab-df-convert {\n",
              "      background-color: #E8F0FE;\n",
              "      border: none;\n",
              "      border-radius: 50%;\n",
              "      cursor: pointer;\n",
              "      display: none;\n",
              "      fill: #1967D2;\n",
              "      height: 32px;\n",
              "      padding: 0 0 0 0;\n",
              "      width: 32px;\n",
              "    }\n",
              "\n",
              "    .colab-df-convert:hover {\n",
              "      background-color: #E2EBFA;\n",
              "      box-shadow: 0px 1px 2px rgba(60, 64, 67, 0.3), 0px 1px 3px 1px rgba(60, 64, 67, 0.15);\n",
              "      fill: #174EA6;\n",
              "    }\n",
              "\n",
              "    .colab-df-buttons div {\n",
              "      margin-bottom: 4px;\n",
              "    }\n",
              "\n",
              "    [theme=dark] .colab-df-convert {\n",
              "      background-color: #3B4455;\n",
              "      fill: #D2E3FC;\n",
              "    }\n",
              "\n",
              "    [theme=dark] .colab-df-convert:hover {\n",
              "      background-color: #434B5C;\n",
              "      box-shadow: 0px 1px 3px 1px rgba(0, 0, 0, 0.15);\n",
              "      filter: drop-shadow(0px 1px 2px rgba(0, 0, 0, 0.3));\n",
              "      fill: #FFFFFF;\n",
              "    }\n",
              "  </style>\n",
              "\n",
              "    <script>\n",
              "      const buttonEl =\n",
              "        document.querySelector('#df-160acb88-34fb-46b2-95b7-21c5f97d24ae button.colab-df-convert');\n",
              "      buttonEl.style.display =\n",
              "        google.colab.kernel.accessAllowed ? 'block' : 'none';\n",
              "\n",
              "      async function convertToInteractive(key) {\n",
              "        const element = document.querySelector('#df-160acb88-34fb-46b2-95b7-21c5f97d24ae');\n",
              "        const dataTable =\n",
              "          await google.colab.kernel.invokeFunction('convertToInteractive',\n",
              "                                                    [key], {});\n",
              "        if (!dataTable) return;\n",
              "\n",
              "        const docLinkHtml = 'Like what you see? Visit the ' +\n",
              "          '<a target=\"_blank\" href=https://colab.research.google.com/notebooks/data_table.ipynb>data table notebook</a>'\n",
              "          + ' to learn more about interactive tables.';\n",
              "        element.innerHTML = '';\n",
              "        dataTable['output_type'] = 'display_data';\n",
              "        await google.colab.output.renderOutput(dataTable, element);\n",
              "        const docLink = document.createElement('div');\n",
              "        docLink.innerHTML = docLinkHtml;\n",
              "        element.appendChild(docLink);\n",
              "      }\n",
              "    </script>\n",
              "  </div>\n",
              "\n",
              "\n",
              "<div id=\"df-599a1e93-d404-49e9-be99-c719535d0aea\">\n",
              "  <button class=\"colab-df-quickchart\" onclick=\"quickchart('df-599a1e93-d404-49e9-be99-c719535d0aea')\"\n",
              "            title=\"Suggest charts\"\n",
              "            style=\"display:none;\">\n",
              "\n",
              "<svg xmlns=\"http://www.w3.org/2000/svg\" height=\"24px\"viewBox=\"0 0 24 24\"\n",
              "     width=\"24px\">\n",
              "    <g>\n",
              "        <path d=\"M19 3H5c-1.1 0-2 .9-2 2v14c0 1.1.9 2 2 2h14c1.1 0 2-.9 2-2V5c0-1.1-.9-2-2-2zM9 17H7v-7h2v7zm4 0h-2V7h2v10zm4 0h-2v-4h2v4z\"/>\n",
              "    </g>\n",
              "</svg>\n",
              "  </button>\n",
              "\n",
              "<style>\n",
              "  .colab-df-quickchart {\n",
              "      --bg-color: #E8F0FE;\n",
              "      --fill-color: #1967D2;\n",
              "      --hover-bg-color: #E2EBFA;\n",
              "      --hover-fill-color: #174EA6;\n",
              "      --disabled-fill-color: #AAA;\n",
              "      --disabled-bg-color: #DDD;\n",
              "  }\n",
              "\n",
              "  [theme=dark] .colab-df-quickchart {\n",
              "      --bg-color: #3B4455;\n",
              "      --fill-color: #D2E3FC;\n",
              "      --hover-bg-color: #434B5C;\n",
              "      --hover-fill-color: #FFFFFF;\n",
              "      --disabled-bg-color: #3B4455;\n",
              "      --disabled-fill-color: #666;\n",
              "  }\n",
              "\n",
              "  .colab-df-quickchart {\n",
              "    background-color: var(--bg-color);\n",
              "    border: none;\n",
              "    border-radius: 50%;\n",
              "    cursor: pointer;\n",
              "    display: none;\n",
              "    fill: var(--fill-color);\n",
              "    height: 32px;\n",
              "    padding: 0;\n",
              "    width: 32px;\n",
              "  }\n",
              "\n",
              "  .colab-df-quickchart:hover {\n",
              "    background-color: var(--hover-bg-color);\n",
              "    box-shadow: 0 1px 2px rgba(60, 64, 67, 0.3), 0 1px 3px 1px rgba(60, 64, 67, 0.15);\n",
              "    fill: var(--button-hover-fill-color);\n",
              "  }\n",
              "\n",
              "  .colab-df-quickchart-complete:disabled,\n",
              "  .colab-df-quickchart-complete:disabled:hover {\n",
              "    background-color: var(--disabled-bg-color);\n",
              "    fill: var(--disabled-fill-color);\n",
              "    box-shadow: none;\n",
              "  }\n",
              "\n",
              "  .colab-df-spinner {\n",
              "    border: 2px solid var(--fill-color);\n",
              "    border-color: transparent;\n",
              "    border-bottom-color: var(--fill-color);\n",
              "    animation:\n",
              "      spin 1s steps(1) infinite;\n",
              "  }\n",
              "\n",
              "  @keyframes spin {\n",
              "    0% {\n",
              "      border-color: transparent;\n",
              "      border-bottom-color: var(--fill-color);\n",
              "      border-left-color: var(--fill-color);\n",
              "    }\n",
              "    20% {\n",
              "      border-color: transparent;\n",
              "      border-left-color: var(--fill-color);\n",
              "      border-top-color: var(--fill-color);\n",
              "    }\n",
              "    30% {\n",
              "      border-color: transparent;\n",
              "      border-left-color: var(--fill-color);\n",
              "      border-top-color: var(--fill-color);\n",
              "      border-right-color: var(--fill-color);\n",
              "    }\n",
              "    40% {\n",
              "      border-color: transparent;\n",
              "      border-right-color: var(--fill-color);\n",
              "      border-top-color: var(--fill-color);\n",
              "    }\n",
              "    60% {\n",
              "      border-color: transparent;\n",
              "      border-right-color: var(--fill-color);\n",
              "    }\n",
              "    80% {\n",
              "      border-color: transparent;\n",
              "      border-right-color: var(--fill-color);\n",
              "      border-bottom-color: var(--fill-color);\n",
              "    }\n",
              "    90% {\n",
              "      border-color: transparent;\n",
              "      border-bottom-color: var(--fill-color);\n",
              "    }\n",
              "  }\n",
              "</style>\n",
              "\n",
              "  <script>\n",
              "    async function quickchart(key) {\n",
              "      const quickchartButtonEl =\n",
              "        document.querySelector('#' + key + ' button');\n",
              "      quickchartButtonEl.disabled = true;  // To prevent multiple clicks.\n",
              "      quickchartButtonEl.classList.add('colab-df-spinner');\n",
              "      try {\n",
              "        const charts = await google.colab.kernel.invokeFunction(\n",
              "            'suggestCharts', [key], {});\n",
              "      } catch (error) {\n",
              "        console.error('Error during call to suggestCharts:', error);\n",
              "      }\n",
              "      quickchartButtonEl.classList.remove('colab-df-spinner');\n",
              "      quickchartButtonEl.classList.add('colab-df-quickchart-complete');\n",
              "    }\n",
              "    (() => {\n",
              "      let quickchartButtonEl =\n",
              "        document.querySelector('#df-599a1e93-d404-49e9-be99-c719535d0aea button');\n",
              "      quickchartButtonEl.style.display =\n",
              "        google.colab.kernel.accessAllowed ? 'block' : 'none';\n",
              "    })();\n",
              "  </script>\n",
              "</div>\n",
              "\n",
              "    </div>\n",
              "  </div>\n"
            ],
            "application/vnd.google.colaboratory.intrinsic+json": {
              "type": "dataframe",
              "variable_name": "df_csv",
              "summary": "{\n  \"name\": \"df_csv\",\n  \"rows\": 1602,\n  \"fields\": [\n    {\n      \"column\": \"Feet\",\n      \"properties\": {\n        \"dtype\": \"number\",\n        \"std\": 0,\n        \"min\": 4,\n        \"max\": 7,\n        \"num_unique_values\": 4,\n        \"samples\": [\n          6,\n          7,\n          5\n        ],\n        \"semantic_type\": \"\",\n        \"description\": \"\"\n      }\n    },\n    {\n      \"column\": \"Inch\",\n      \"properties\": {\n        \"dtype\": \"number\",\n        \"std\": 3.092237499527406,\n        \"min\": 0.0,\n        \"max\": 33.0,\n        \"num_unique_values\": 21,\n        \"samples\": [\n          6.0,\n          7.5,\n          8.5\n        ],\n        \"semantic_type\": \"\",\n        \"description\": \"\"\n      }\n    },\n    {\n      \"column\": \"Hieght (cm)\",\n      \"properties\": {\n        \"dtype\": \"number\",\n        \"std\": 9.513993865916712,\n        \"min\": 121.92,\n        \"max\": 236.22,\n        \"num_unique_values\": 40,\n        \"samples\": [\n          185.42000000000002,\n          158.75,\n          200.66\n        ],\n        \"semantic_type\": \"\",\n        \"description\": \"\"\n      }\n    },\n    {\n      \"column\": \"Hieght (m2)\",\n      \"properties\": {\n        \"dtype\": \"number\",\n        \"std\": 0.31662606270109017,\n        \"min\": 1.48644864,\n        \"max\": 5.57998884,\n        \"num_unique_values\": 40,\n        \"samples\": [\n          3.4380576400000002,\n          2.52015625,\n          4.026443560000001\n        ],\n        \"semantic_type\": \"\",\n        \"description\": \"\"\n      }\n    },\n    {\n      \"column\": \"W1\",\n      \"properties\": {\n        \"dtype\": \"number\",\n        \"std\": 12.335592024444985,\n        \"min\": 3.0,\n        \"max\": 118.0,\n        \"num_unique_values\": 78,\n        \"samples\": [\n          80.0,\n          70.0,\n          71.0\n        ],\n        \"semantic_type\": \"\",\n        \"description\": \"\"\n      }\n    },\n    {\n      \"column\": \"W2\",\n      \"properties\": {\n        \"dtype\": \"number\",\n        \"std\": 21.016547163754723,\n        \"min\": 0.4,\n        \"max\": 748.0,\n        \"num_unique_values\": 102,\n        \"samples\": [\n          61.8,\n          46.2,\n          37.0\n        ],\n        \"semantic_type\": \"\",\n        \"description\": \"\"\n      }\n    },\n    {\n      \"column\": \"BMI (Before COVID)\",\n      \"properties\": {\n        \"dtype\": \"number\",\n        \"std\": 4.117923349181552,\n        \"min\": 1.1352561767623535,\n        \"max\": 40.47230316682855,\n        \"num_unique_values\": 577,\n        \"samples\": [\n          26.045000630223903,\n          27.151870912738364,\n          36.15167580189387\n        ],\n        \"semantic_type\": \"\",\n        \"description\": \"\"\n      }\n    },\n    {\n      \"column\": \"BMI (During COVID)\",\n      \"properties\": {\n        \"dtype\": \"number\",\n        \"std\": 7.678420507393597,\n        \"min\": 0.15621094482299824,\n        \"max\": 283.05720673941346,\n        \"num_unique_values\": 600,\n        \"samples\": [\n          26.696125645979503,\n          28.903053243519697,\n          24.432400150219703\n        ],\n        \"semantic_type\": \"\",\n        \"description\": \"\"\n      }\n    }\n  ]\n}"
            }
          },
          "metadata": {},
          "execution_count": 7
        }
      ]
    },
    {
      "cell_type": "code",
      "source": [
        "missing_values=df_csv.isnull().sum()\n",
        "print(missing_values)"
      ],
      "metadata": {
        "colab": {
          "base_uri": "https://localhost:8080/"
        },
        "id": "MXwN-bi8A98X",
        "outputId": "c7467a88-10ba-4d03-9e7a-7b5b569a13bf"
      },
      "execution_count": null,
      "outputs": [
        {
          "output_type": "stream",
          "name": "stdout",
          "text": [
            "Feet                  0\n",
            "Inch                  0\n",
            "Hieght (cm)           0\n",
            "Hieght (m2)           0\n",
            "W1                    0\n",
            "W2                    0\n",
            "BMI (Before COVID)    0\n",
            "BMI (During COVID)    0\n",
            "dtype: int64\n"
          ]
        }
      ]
    },
    {
      "cell_type": "code",
      "source": [
        "from scipy.stats import f_oneway\n",
        "sample1=df_csv['BMI (Before COVID)'].to_numpy()\n",
        "sample2=df_csv['BMI (During COVID)'].to_numpy()\n",
        "alpha= 0.05\n",
        "result = f_oneway(sample1,sample2)\n",
        "print(result,'\\n')\n",
        "if results[1] <alpha: # result[1] is the p value\n",
        "  print(f'since p_value<{alpha},reject null hypothesis.')\n",
        "else:\n",
        "    print(f'since p_value>{alpha},the null hypothesis can not be rejected.')\n"
      ],
      "metadata": {
        "colab": {
          "base_uri": "https://localhost:8080/",
          "height": 245
        },
        "id": "y3KhaxJDBndm",
        "outputId": "cb52ae50-de9c-4c21-d83a-bc38a4528eea"
      },
      "execution_count": null,
      "outputs": [
        {
          "output_type": "stream",
          "name": "stdout",
          "text": [
            "F_onewayResult(statistic=11.399790598482301, pvalue=0.0007432831671380242) \n",
            "\n"
          ]
        },
        {
          "output_type": "error",
          "ename": "NameError",
          "evalue": "name 'results' is not defined",
          "traceback": [
            "\u001b[0;31m---------------------------------------------------------------------------\u001b[0m",
            "\u001b[0;31mNameError\u001b[0m                                 Traceback (most recent call last)",
            "\u001b[0;32m<ipython-input-13-1f04462bb538>\u001b[0m in \u001b[0;36m<cell line: 7>\u001b[0;34m()\u001b[0m\n\u001b[1;32m      5\u001b[0m \u001b[0mresult\u001b[0m \u001b[0;34m=\u001b[0m \u001b[0mf_oneway\u001b[0m\u001b[0;34m(\u001b[0m\u001b[0msample1\u001b[0m\u001b[0;34m,\u001b[0m\u001b[0msample2\u001b[0m\u001b[0;34m)\u001b[0m\u001b[0;34m\u001b[0m\u001b[0;34m\u001b[0m\u001b[0m\n\u001b[1;32m      6\u001b[0m \u001b[0mprint\u001b[0m\u001b[0;34m(\u001b[0m\u001b[0mresult\u001b[0m\u001b[0;34m,\u001b[0m\u001b[0;34m'\\n'\u001b[0m\u001b[0;34m)\u001b[0m\u001b[0;34m\u001b[0m\u001b[0;34m\u001b[0m\u001b[0m\n\u001b[0;32m----> 7\u001b[0;31m \u001b[0;32mif\u001b[0m \u001b[0mresults\u001b[0m\u001b[0;34m[\u001b[0m\u001b[0;36m1\u001b[0m\u001b[0;34m]\u001b[0m \u001b[0;34m<\u001b[0m\u001b[0malpha\u001b[0m\u001b[0;34m:\u001b[0m \u001b[0;31m# result[1] is the p value\u001b[0m\u001b[0;34m\u001b[0m\u001b[0;34m\u001b[0m\u001b[0m\n\u001b[0m\u001b[1;32m      8\u001b[0m   \u001b[0mprint\u001b[0m\u001b[0;34m(\u001b[0m\u001b[0;34mf'since p_value<{alpha},reject null hypothesis.'\u001b[0m\u001b[0;34m)\u001b[0m\u001b[0;34m\u001b[0m\u001b[0;34m\u001b[0m\u001b[0m\n\u001b[1;32m      9\u001b[0m \u001b[0;32melse\u001b[0m\u001b[0;34m:\u001b[0m\u001b[0;34m\u001b[0m\u001b[0;34m\u001b[0m\u001b[0m\n",
            "\u001b[0;31mNameError\u001b[0m: name 'results' is not defined"
          ]
        }
      ]
    },
    {
      "cell_type": "code",
      "source": [
        "from statsmodels.formula.api import ols\n",
        "from statsmodels.stats.anova import anova_lm\n",
        "\n",
        "# recovery time\n",
        "A =df_csv['W1'].to_numpy()\n",
        "# treatment time\n",
        "B =df_csv['W2']\n",
        "\n",
        "# y is 1 2 3\n",
        "# patient satisfaction level\n",
        "C = df_csv['BMI (During COVID)'].to_numpy()\n",
        "\n",
        "data = pd.DataFrame()\n",
        "\n",
        "data['A'] = A\n",
        "data['B'] = B\n",
        "data['C'] = C\n",
        "\n",
        "model = ols('C ~ A + B + A:B', data=data).fit()\n",
        "aov_table = anova_lm(model, type=2)\n",
        "print(aov_table.round(4))"
      ],
      "metadata": {
        "colab": {
          "base_uri": "https://localhost:8080/"
        },
        "id": "X3_n_fSwGF7H",
        "outputId": "1073350c-be72-41a3-d9b0-f23a41da3f8a"
      },
      "execution_count": null,
      "outputs": [
        {
          "output_type": "stream",
          "name": "stdout",
          "text": [
            "              df      sum_sq     mean_sq           F  PR(>F)\n",
            "A            1.0  12776.8207  12776.8207   2064.2691  0.0000\n",
            "B            1.0  71703.4002  71703.4002  11584.6590  0.0000\n",
            "A:B          1.0     20.9215     20.9215      3.3801  0.0662\n",
            "Residual  1598.0   9890.8421      6.1895         NaN     NaN\n"
          ]
        }
      ]
    }
  ]
}